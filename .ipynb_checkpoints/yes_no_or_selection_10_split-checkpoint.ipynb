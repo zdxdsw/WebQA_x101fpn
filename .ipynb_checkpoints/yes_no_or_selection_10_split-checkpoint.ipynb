{
 "cells": [
  {
   "cell_type": "code",
   "execution_count": 1,
   "metadata": {},
   "outputs": [],
   "source": [
    "import json\n",
    "import numpy as np\n",
    "from collections import Counter, defaultdict\n",
    "import copy\n",
    "from pprint import pprint\n",
    "import random"
   ]
  },
  {
   "cell_type": "code",
   "execution_count": 3,
   "metadata": {},
   "outputs": [
    {
     "name": "stdout",
     "output_type": "stream",
     "text": [
      "Counter({'YesNo': 8432, 'Others': 6748, 'choose': 5240, 'number': 2341, 'color': 2044, 'shape': 662})\n",
      "25467\n",
      "Counter({1: 14337, 2: 11130})\n",
      "[233, 338, 443, 1233, 1234, 2141, 2361]\n"
     ]
    }
   ],
   "source": [
    "dataset_J_Qcate = json.load(open(\"/home/yingshac/CYS/WebQnA/WebQnA_data_new/img_dataset_J_Qcate.json\", \"r\"))\n",
    "# Sanity check\n",
    "print(Counter([dataset_J_Qcate[k]['Qcate'] for k in dataset_J_Qcate]))\n",
    "print(len(set([dataset_J_Qcate[k]['Guid'] for k in dataset_J_Qcate])))\n",
    "print(Counter([len(dataset_J_Qcate[j]['GoldIds']) for j in dataset_J_Qcate]))\n",
    "print([k for k in range(25474) if str(k) not in dataset_J_Qcate])"
   ]
  },
  {
   "cell_type": "code",
   "execution_count": 17,
   "metadata": {},
   "outputs": [
    {
     "name": "stdout",
     "output_type": "stream",
     "text": [
      "13672\n"
     ]
    }
   ],
   "source": [
    "img_YesNo_choose = {}\n",
    "for k in dataset_J_Qcate:\n",
    "    if dataset_J_Qcate[k]['Qcate'] in ['YesNo', 'choose']:\n",
    "        img_YesNo_choose[k] = copy.deepcopy(dataset_J_Qcate[k])\n",
    "print(len(img_YesNo_choose))\n",
    "json.dump(img_YesNo_choose, open(\"/home/yingshac/CYS/WebQnA/WebQnA_data_new/img_binary_10_split/img_YesNo_choose_all.json\", \"w\"), indent=4)"
   ]
  },
  {
   "cell_type": "code",
   "execution_count": 18,
   "metadata": {},
   "outputs": [
    {
     "data": {
      "text/plain": [
       "13672"
      ]
     },
     "execution_count": 18,
     "metadata": {},
     "output_type": "execute_result"
    }
   ],
   "source": [
    "guid2choice = {}\n",
    "for k in img_YesNo_choose:\n",
    "    guid2choice[img_YesNo_choose[k]['Guid']] = random.sample(range(1, 11), 3)\n",
    "len(guid2choice)"
   ]
  },
  {
   "cell_type": "code",
   "execution_count": 19,
   "metadata": {},
   "outputs": [
    {
     "name": "stdout",
     "output_type": "stream",
     "text": [
      "Counter({'train': 9486, 'test': 4186})\n",
      "Counter({'train': 9560, 'test': 4112})\n",
      "Counter({'train': 9648, 'test': 4024})\n",
      "Counter({'train': 9547, 'test': 4125})\n",
      "Counter({'train': 9572, 'test': 4100})\n",
      "Counter({'train': 9527, 'test': 4145})\n",
      "Counter({'train': 9579, 'test': 4093})\n",
      "Counter({'train': 9639, 'test': 4033})\n",
      "Counter({'train': 9516, 'test': 4156})\n",
      "Counter({'train': 9630, 'test': 4042})\n"
     ]
    }
   ],
   "source": [
    "for i in range(1, 11):\n",
    "    json_file = copy.deepcopy(img_YesNo_choose)\n",
    "    for k in json_file:\n",
    "        if i in guid2choice[json_file[k]['Guid']]:\n",
    "            json_file[k]['split'] = 'test'\n",
    "        else:\n",
    "            json_file[k]['split'] = 'train'\n",
    "    print(Counter([json_file[k]['split'] for k in json_file]))\n",
    "    json.dump(json_file, open(\"/home/yingshac/CYS/WebQnA/WebQnA_data_new/img_binary_10_split/img_binary_split_{}.json\".format(i), \"w\"), indent=4)"
   ]
  },
  {
   "cell_type": "code",
   "execution_count": 20,
   "metadata": {},
   "outputs": [
    {
     "name": "stdout",
     "output_type": "stream",
     "text": [
      "13672\n",
      "Counter({3: 13672})\n"
     ]
    }
   ],
   "source": [
    "ten_splits = [json.load(open(\"/home/yingshac/CYS/WebQnA/WebQnA_data_new/img_binary_10_split/img_binary_split_{}.json\".format(i), \"r\")) for i in range(1, 11)]\n",
    "guid2testCount = defaultdict(int)\n",
    "for k in ten_splits[0]:\n",
    "    for js in ten_splits:\n",
    "        if js[k]['split'] == 'test':\n",
    "            guid2testCount[js[k]['Guid']] += 1\n",
    "print(len(guid2testCount))\n",
    "print(Counter(guid2testCount.values()))"
   ]
  },
  {
   "cell_type": "code",
   "execution_count": null,
   "metadata": {},
   "outputs": [],
   "source": []
  }
 ],
 "metadata": {
  "kernelspec": {
   "display_name": "py37",
   "language": "python",
   "name": "py37"
  },
  "language_info": {
   "codemirror_mode": {
    "name": "ipython",
    "version": 3
   },
   "file_extension": ".py",
   "mimetype": "text/x-python",
   "name": "python",
   "nbconvert_exporter": "python",
   "pygments_lexer": "ipython3",
   "version": "3.7.9"
  }
 },
 "nbformat": 4,
 "nbformat_minor": 4
}
