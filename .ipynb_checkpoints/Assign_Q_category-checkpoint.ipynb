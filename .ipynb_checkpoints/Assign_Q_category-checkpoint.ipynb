{
 "cells": [
  {
   "cell_type": "markdown",
   "metadata": {},
   "source": [
    "### Categorize questions into [ color, shape, number, choose, YesNo, Others]\n",
    "### Guids were also generated (in img_dataset_J_Qcate.json)\n",
    "#### Set aside adversarial samples for [color, shape, number] based on Counter statistics. (ood guids are stored in pkl)\n",
    "#### Create train/val/ind_test random splits for [color, shape, number]"
   ]
  },
  {
   "cell_type": "code",
   "execution_count": 149,
   "metadata": {},
   "outputs": [],
   "source": [
    "import json\n",
    "import numpy as np\n",
    "import pylcs\n",
    "from collections import Counter, defaultdict\n",
    "import copy\n",
    "import seaborn as sns\n",
    "import matplotlib.pyplot as plt\n",
    "from pprint import pprint\n",
    "import random\n",
    "import spacy\n",
    "from sklearn.cluster import AgglomerativeClustering, KMeans\n",
    "from nltk.corpus import stopwords\n",
    "import torch\n",
    "import uuid\n",
    "nlp = spacy.load(\"en_core_web_sm\", disable=[\"ner\",\"textcat\",\"parser\"])"
   ]
  },
  {
   "cell_type": "code",
   "execution_count": 10,
   "metadata": {},
   "outputs": [],
   "source": [
    "from word2number import w2n\n",
    "def toNum(word):\n",
    "    try: return w2n.word_to_num(word)\n",
    "    except:\n",
    "        return word"
   ]
  },
  {
   "cell_type": "code",
   "execution_count": 29,
   "metadata": {},
   "outputs": [],
   "source": [
    "# This version has NO lemmatization.\n",
    "# normalize_text for eval needs lemmatization\n",
    "def normalize_text(s):\n",
    "    import string, re\n",
    "    def remove_articles(text):\n",
    "        regex = re.compile(r\"\\b(a|an|the)\\b\", re.UNICODE)\n",
    "        return re.sub(regex, \" \", text)\n",
    "\n",
    "    def white_space_fix(text): # additional: converting numbers to digit form\n",
    "        return \" \".join([str(toNum(w)) for w in text.split()])\n",
    "        #return \" \".join(text.split())\n",
    "\n",
    "    def remove_punc(text):\n",
    "        exclude = set(string.punctuation) - set(['.'])\n",
    "        text1 = \"\".join(ch for ch in text if ch not in exclude)\n",
    "        return re.sub(r\"\\.(?!\\d)\", \"\", text1)\n",
    "\n",
    "    def lower(text):\n",
    "        return text.lower()\n",
    "    \n",
    "    #def lemmatization(text):\n",
    "        #return \" \".join([token.lemma_ for token in nlp(text)])\n",
    "    if len(s.strip()) == 1:\n",
    "        # FIXME: Is there a more general solution for handling answers like \"+\", \"The\"\n",
    "        return white_space_fix(lower(s))\n",
    "    if len(s.strip().split()) == 1: \n",
    "        return white_space_fix(remove_punc(lower(s)))\n",
    "    \n",
    "    return white_space_fix(remove_articles(remove_punc(lower(s))))"
   ]
  },
  {
   "cell_type": "code",
   "execution_count": 89,
   "metadata": {},
   "outputs": [
    {
     "name": "stdout",
     "output_type": "stream",
     "text": [
      "[233, 338, 443, 1233, 1234, 2141, 2361]\n",
      "Counter({1: 14337, 2: 11130})\n"
     ]
    }
   ],
   "source": [
    "dataset_J_fix_dis = json.load(open(\"/home/yingshac/CYS/WebQnA/WebQnA_data_new/img_dataset_J_0623.json\", \"r\"))\n",
    "print([k for k in range(25474) if str(k) not in dataset_J_fix_dis])\n",
    "print(Counter([len(dataset_J_fix_dis[j]['GoldIds']) for j in dataset_J_fix_dis]))"
   ]
  },
  {
   "cell_type": "code",
   "execution_count": 90,
   "metadata": {},
   "outputs": [
    {
     "name": "stdout",
     "output_type": "stream",
     "text": [
      "25467\n"
     ]
    },
    {
     "name": "stderr",
     "output_type": "stream",
     "text": [
      "/home/yingshac/miniconda3/envs/py37/lib/python3.7/site-packages/seaborn/distributions.py:2551: FutureWarning: `distplot` is a deprecated function and will be removed in a future version. Please adapt your code to use either `displot` (a figure-level function with similar flexibility) or `histplot` (an axes-level function for histograms).\n",
      "  warnings.warn(msg, FutureWarning)\n"
     ]
    },
    {
     "data": {
      "text/plain": [
       "<matplotlib.legend.Legend at 0x7f6ef5f0a790>"
      ]
     },
     "execution_count": 90,
     "metadata": {},
     "output_type": "execute_result"
    },
    {
     "data": {
      "image/png": "[encoded data removed]",
      "text/plain": [
       "<Figure size 432x288 with 1 Axes>"
      ]
     },
     "metadata": {},
     "output_type": "display_data"
    }
   ],
   "source": [
    "import pylcs\n",
    "print(len(dataset_J_fix_dis))\n",
    "overlap_ratio_list = []\n",
    "id2ratio = {}\n",
    "for k in dataset_J_fix_dis:\n",
    "    A = normalize_text(dataset_J_fix_dis[k]['A'].replace('\"', ''))\n",
    "    B = normalize_text(dataset_J_fix_dis[k]['Q'].replace('\"', ''))\n",
    "    overlap_ratio = pylcs.lcs2(B, A) / len(A)\n",
    "    id2ratio[k] = overlap_ratio\n",
    "    overlap_ratio_list.append(overlap_ratio)\n",
    "\n",
    "sns.distplot(overlap_ratio_list, kde=False, label=\"PR\")\n",
    "plt.legend()"
   ]
  },
  {
   "cell_type": "code",
   "execution_count": 101,
   "metadata": {},
   "outputs": [
    {
     "name": "stdout",
     "output_type": "stream",
     "text": [
      "Others 6748\n",
      "YesNo 8432\n",
      "choose 5240\n",
      "number 2341\n",
      "shape 662\n",
      "color 2044\n",
      "Counter({'YesNo': 8432, 'Others': 6748, 'choose': 5240, 'number': 2341, 'color': 2044, 'shape': 662})\n",
      "25467\n"
     ]
    }
   ],
   "source": [
    "# Pick color, shape and how many categories\n",
    "dataset_J_Qcate = copy.deepcopy(dataset_J_fix_dis)\n",
    "Qcate_dict = defaultdict(lambda: [])\n",
    "used_k = []\n",
    "for k in dataset_J_fix_dis:\n",
    "    normalized_A = normalize_text(dataset_J_fix_dis[k]['A'].replace('\"', ''))\n",
    "    if 'what color' in dataset_J_fix_dis[k]['Q'].lower() or 'which color' in dataset_J_fix_dis[k]['Q'].lower() or 'what are the color' in dataset_J_fix_dis[k]['Q'].lower() or 'what is the color' in dataset_J_fix_dis[k]['Q'].lower():\n",
    "        dataset_J_Qcate[k]['Qcate'] = 'color'\n",
    "        Qcate_dict['color'].append(k)\n",
    "    elif 'what shape' in dataset_J_fix_dis[k]['Q'].lower() or 'which shape' in dataset_J_fix_dis[k]['Q'].lower() or 'what are the shape' in dataset_J_fix_dis[k]['Q'].lower() or 'what is the shape' in dataset_J_fix_dis[k]['Q'].lower():\n",
    "        dataset_J_Qcate[k]['Qcate'] = 'shape'\n",
    "        Qcate_dict['shape'].append(k)\n",
    "    elif 'how many' in dataset_J_fix_dis[k]['Q'].lower():\n",
    "        dataset_J_Qcate[k]['Qcate'] = 'number'\n",
    "        Qcate_dict['number'].append(k)\n",
    "    \n",
    "    elif id2ratio[k] > 0.8 and (not \"what\" in dataset_J_fix_dis[k]['Q'].lower()) and (len(normalized_A) > 1) and (not \"no\" == normalized_A) and (not normalized_A == \"yes\"):\n",
    "        dataset_J_Qcate[k]['Qcate'] = 'choose'\n",
    "        Qcate_dict['choose'].append(k)\n",
    "    elif 'yes' in normalized_A.split() or 'no' in normalized_A.split():\n",
    "        dataset_J_Qcate[k]['Qcate'] = 'YesNo'\n",
    "        Qcate_dict['YesNo'].append(k)\n",
    "    else:\n",
    "        dataset_J_Qcate[k]['Qcate'] = 'Others'\n",
    "        Qcate_dict['Others'].append(k)\n",
    "    \n",
    "    ### dataset_J_Qcate[k]['Guid'] = uuid.uuid1().hex # Guid was generated for img data on Jun 23. Never need to run this line again unless it's really necessary\n",
    "\n",
    "for cate in Qcate_dict:\n",
    "    print(cate, len(Qcate_dict[cate]))\n",
    "print(Counter([dataset_J_Qcate[k]['Qcate'] for k in dataset_J_Qcate]))\n",
    "print(len(set([dataset_J_Qcate[k]['Guid'] for k in dataset_J_Qcate])))"
   ]
  },
  {
   "cell_type": "code",
   "execution_count": 102,
   "metadata": {},
   "outputs": [],
   "source": [
    "json.dump(dataset_J_Qcate, open(\"/home/yingshac/CYS/WebQnA/WebQnA_data_new/img_dataset_J_Qcate.json\", \"w\"), indent=4)"
   ]
  },
  {
   "cell_type": "markdown",
   "metadata": {},
   "source": [
    "### Start working on adversarial splits for [color, shape, number]"
   ]
  },
  {
   "cell_type": "code",
   "execution_count": 165,
   "metadata": {},
   "outputs": [
    {
     "name": "stdout",
     "output_type": "stream",
     "text": [
      "Counter({'YesNo': 8432, 'Others': 6748, 'choose': 5240, 'number': 2341, 'color': 2044, 'shape': 662})\n",
      "25467\n",
      "Counter({1: 14337, 2: 11130})\n",
      "[233, 338, 443, 1233, 1234, 2141, 2361]\n"
     ]
    }
   ],
   "source": [
    "# Sanity check after img_dataset_J_Qcate.json is fixed\n",
    "dataset_J_Qcate = json.load(open(\"/home/yingshac/CYS/WebQnA/WebQnA_data_new/img_dataset_J_Qcate.json\", \"r\"))\n",
    "print(Counter([dataset_J_Qcate[k]['Qcate'] for k in dataset_J_Qcate]))\n",
    "print(len(set([dataset_J_Qcate[k]['Guid'] for k in dataset_J_Qcate])))\n",
    "print(Counter([len(dataset_J_Qcate[j]['GoldIds']) for j in dataset_J_Qcate]))\n",
    "print([k for k in range(25474) if str(k) not in dataset_J_Qcate])"
   ]
  },
  {
   "cell_type": "code",
   "execution_count": 108,
   "metadata": {},
   "outputs": [
    {
     "name": "stdout",
     "output_type": "stream",
     "text": [
      "\"What building material is prominent throughout the interior of the James R. Browning courthouse?\"\n",
      "\"Marble\"\n",
      "\"What numbers were worn on the jerseys of those playing in the final match of the 2014 FIFA World Cup?\"\n",
      "\"11, 14, 8, 16, 20, 9\"\n",
      "\"What is tacked at the bottom of the Hartford Textile Co. pieces at the Library of Congress?\"\n",
      "\"A ruler.\"\n",
      "\"What can be seen in the interior walls of San Francisco City Hall?\"\n",
      "\"Sculptures and inscriptions\"\n",
      "\"What is the largest structure that can be seen on the Las Vegas strip?\"\n",
      "\"The Eiffel Tower of Las Vegas\"\n",
      "\"Which companies have billboards behind the police station in Times Square?\"\n",
      "\"Yahoo, Panasonic, News Corporation, Budweiser, Chevrolet, Ricoh\"\n",
      "\"What street signs are next to the building that has a \"Gerrard Street W1\" sign at the corner of Gerrard St in China Town, London?\"\n",
      "\"Pedestrian zone; Except loading\"\n",
      "\"What kind of shutters does Rocky's Pizzeria on Coney Island Ave use to lock down its shop when it isn't open?\"\n",
      "\"Rolling steel shutters\"\n",
      "\"What two famous Paris landmarks are replicated at the Paris Hotel in Las Vegas?\"\n",
      "\"The Eiffel Tower and Arc de Triomphe\"\n",
      "\"What attire is commonly seen in Atlanta city hall?\"\n",
      "\"Business suits.\"\n"
     ]
    }
   ],
   "source": [
    "# Check what fall into \"Others\" category\n",
    "count = 0\n",
    "for k in dataset_J_Qcate:\n",
    "    \n",
    "    if dataset_J_Qcate[k]['Qcate'] == 'Others' and count < 10:\n",
    "        if random.random() < 0.02:\n",
    "            print(dataset_J_Qcate[k]['Q'])\n",
    "            print(dataset_J_Qcate[k]['A'])\n",
    "            count += 1"
   ]
  },
  {
   "cell_type": "code",
   "execution_count": 135,
   "metadata": {},
   "outputs": [
    {
     "name": "stdout",
     "output_type": "stream",
     "text": [
      "ash color\n",
      "stained glass\n",
      "olive color\n",
      "neutralbased color scheme\n",
      "blue 99\n",
      "yellow 86\n",
      "red 111\n",
      "white 105\n",
      "green 77\n",
      "pink 28\n",
      "orange 32\n",
      "gold 26\n",
      "black 53\n",
      "brown 26\n",
      "purple 21\n",
      "orangepurple 1\n",
      "silver 10\n",
      "grey 21\n",
      "gray 9\n",
      "teal 2\n",
      "tan 5\n",
      "golden 3\n",
      "rust 2\n",
      "ivory 1\n",
      "maroon 2\n",
      "bluered 1\n",
      "aqua 1\n",
      "rainbow 1\n",
      "blonde 2\n",
      "transparent 2\n",
      "turquoise 2\n",
      "spotted 1\n",
      "yes 1\n",
      "beige 3\n",
      "orangebrown 1\n",
      "bronze 1\n",
      "violet 3\n",
      "bluewhite 1\n",
      "chrome 1\n",
      "redorange 1\n"
     ]
    }
   ],
   "source": [
    "color_counter = Counter([normalize_text(dataset_J_Qcate[k]['A'].replace('\"', '')) for k in dataset_J_Qcate if dataset_J_Qcate[k]['Qcate'] == 'color'])\n",
    "#print(color_counter)\n",
    "d = defaultdict(lambda: [])\n",
    "for a in color_counter.keys():\n",
    "    if len(a.split()) == 1:\n",
    "        d[a].append(a)\n",
    "for a in color_counter.keys():\n",
    "    if len(a.split()) > 1:\n",
    "        assigned = False\n",
    "        for w in a.split():\n",
    "            for single_color in d:\n",
    "                if single_color in w:\n",
    "                    d[single_color].append(a)\n",
    "                    assigned = True\n",
    "        if not assigned:\n",
    "            print(a)\n",
    "for single_color in d:\n",
    "    print(single_color, len(d[single_color]))\n",
    "#pprint(d)"
   ]
  },
  {
   "cell_type": "code",
   "execution_count": 140,
   "metadata": {},
   "outputs": [
    {
     "name": "stdout",
     "output_type": "stream",
     "text": [
      "232\n",
      "Counter({'blue': 170, 'purple': 30, 'light blue': 9, 'red blue': 2, 'red blue grey': 1, 'blue and tan': 1, 'black red and blue': 1, 'blue white': 1, 'bluered': 1, 'green blue': 1, 'blue white and red': 1, 'navy blue': 1, 'yes': 1, 'bronze': 1, 'red white and blue': 1, 'violet': 1, 'blue white and green': 1, 'blue white black': 1, 'orange silver red blue': 1, 'red black green yellow blue': 1, 'bluewhite': 1, 'blue and turquoise': 1, 'brown yellow green and blue': 1, 'green red yellow and blue': 1, 'white blue': 1})\n"
     ]
    }
   ],
   "source": [
    "# blue and purple go into adversarial set. Long tail was devided randomly\n",
    "\n",
    "color_ood_answer = []\n",
    "color_ood_guid = []\n",
    "for k in dataset_J_Qcate:\n",
    "    if dataset_J_Qcate[k]['Qcate'] == 'color':\n",
    "        normalize_A = normalize_text(dataset_J_Qcate[k]['A'].replace('\"', ''))\n",
    "        if 'blue' in normalize_A or 'purple' in normalize_A:\n",
    "            if len(normalize_A) > 10:\n",
    "                if random.random() < 0.1:\n",
    "                    color_ood_guid.append(dataset_J_Qcate[k]['Guid'])\n",
    "                    color_ood_answer.append(normalize_A)\n",
    "            else:\n",
    "                color_ood_guid.append(dataset_J_Qcate[k]['Guid'])\n",
    "                color_ood_answer.append(normalize_A)\n",
    "        elif len(normalize_A.split()) == 1:\n",
    "            if len(d[normalize_A]) <= 5: \n",
    "                if random.random() < 0.1:\n",
    "                    color_ood_guid.append(dataset_J_Qcate[k]['Guid'])\n",
    "                    color_ood_answer.append(normalize_A)\n",
    "print(len(color_ood_guid))\n",
    "print(Counter(color_ood_answer))"
   ]
  },
  {
   "cell_type": "code",
   "execution_count": 187,
   "metadata": {},
   "outputs": [
    {
     "name": "stdout",
     "output_type": "stream",
     "text": [
      "97\n",
      "Counter({'triangle': 41, 'triangles': 11, 'pyramid': 9, 'triangular': 7, 'cone': 5, 'triangular pyramid': 1, 'cone shape': 1, 'forked': 1, 'upside down pyramid': 1, 'bell': 1, 'pyramidal': 1, 'bow': 1, 'sloped': 1, 'dome shaped': 1, 'square circle triangle': 1, 'diamonds': 1, 'upside down cone': 1, 'curved rounded shapes': 1, 'domed': 1, 'spirals': 1, 'oval triangle': 1, 'wavy': 1, 'hexagon': 1, 'pointy pyramid': 1, 'cone shaped': 1, 'cones': 1, 'cylinder': 1, 'square triangle': 1, 'squares triangles and curves': 1})\n"
     ]
    }
   ],
   "source": [
    "# Give up on using BERT embeddings to cluster shapes.\n",
    "# Pick 'triangle', 'triangular', 'triangles', 'pyramid', 'cone', 'bell' out and others go into training. Long tail was decided randomly\n",
    "ood_shapes = ['triangle', 'triangular', 'pyramid', 'cone']\n",
    "shape_ood_answer = []\n",
    "shape_ood_guid = []\n",
    "\n",
    "shape_counter = Counter([normalize_text(dataset_J_Qcate[k]['A'].replace('\"', '')) for k in dataset_J_Qcate if dataset_J_Qcate[k]['Qcate'] == 'shape'])\n",
    "\n",
    "for k in dataset_J_Qcate:\n",
    "    if dataset_J_Qcate[k]['Qcate'] == 'shape':\n",
    "        normalize_A = normalize_text(dataset_J_Qcate[k]['A'].replace('\"', ''))\n",
    "        \n",
    "        for s in ood_shapes:\n",
    "            if s in normalize_A:\n",
    "                shape_ood_guid.append(dataset_J_Qcate[k]['Guid'])\n",
    "                shape_ood_answer.append(normalize_A)\n",
    "                break\n",
    "\n",
    "        if normalize_A not in shape_ood_answer:\n",
    "            if shape_counter[normalize_A] <= 5:\n",
    "                if random.random() < 0.1:\n",
    "                    shape_ood_guid.append(dataset_J_Qcate[k]['Guid'])\n",
    "                    shape_ood_answer.append(normalize_A)\n",
    "            \n",
    "print(len(shape_ood_guid))\n",
    "print(Counter(shape_ood_answer))"
   ]
  },
  {
   "cell_type": "code",
   "execution_count": 173,
   "metadata": {},
   "outputs": [],
   "source": [
    "def extract_number(s):\n",
    "    for i in s.split():\n",
    "        if str(toNum(i)).isdigit():\n",
    "            return toNum(i)\n",
    "        try:\n",
    "            return float(i)\n",
    "        except: pass\n",
    "    return s"
   ]
  },
  {
   "cell_type": "code",
   "execution_count": 177,
   "metadata": {},
   "outputs": [
    {
     "name": "stdout",
     "output_type": "stream",
     "text": [
      "2341\n",
      "Counter({2: 732, 3: 428, 4: 332, 1: 261, 5: 152, 6: 141, 8: 65, 7: 49, 0: 32, 10: 25, 9: 25, 11: 22, 13: 13, 12: 11, 14: 9, 'twice': 8, 'none': 5, 'once': 4, 15: 3, 17: 3, 16: 3, 28: 2, 25: 2, 30: 2, 18: 1, 'thirtythree': 1, 26: 1, 'thirtynine': 1, 36: 1, 20: 1, 22: 1, 'twentytwo': 1, 'oneway': 1, 'twentysix': 1, 50: 1, 19: 1})\n",
      "221\n",
      "Counter({5: 152, 8: 65, 25: 1, 'thirtynine': 1, 36: 1, 20: 1})\n"
     ]
    }
   ],
   "source": [
    "# 5, 8 go into adversarial set. Long tail was decided randomly\n",
    "number_counter = Counter([extract_number(normalize_text(dataset_J_Qcate[k]['A'].replace('\"', ''))) for k in dataset_J_Qcate if dataset_J_Qcate[k]['Qcate'] == 'number'])\n",
    "print(sum(list(number_counter.values())))\n",
    "print(number_counter)\n",
    "\n",
    "number_ood_answer = []\n",
    "number_ood_guid = []\n",
    "\n",
    "for k in dataset_J_Qcate:\n",
    "    if dataset_J_Qcate[k]['Qcate'] == 'number':\n",
    "        number_in_A = extract_number(normalize_text(dataset_J_Qcate[k]['A'].replace('\"', '')))\n",
    "        \n",
    "        if number_in_A in [5, 8]:\n",
    "            number_ood_guid.append(dataset_J_Qcate[k]['Guid'])\n",
    "            number_ood_answer.append(number_in_A)\n",
    "\n",
    "        elif number_counter[number_in_A] <= 5:\n",
    "            if random.random() < 0.1:\n",
    "                number_ood_guid.append(dataset_J_Qcate[k]['Guid'])\n",
    "                number_ood_answer.append(number_in_A)\n",
    "            \n",
    "print(len(number_ood_guid))\n",
    "print(Counter(number_ood_answer))"
   ]
  },
  {
   "cell_type": "code",
   "execution_count": 188,
   "metadata": {},
   "outputs": [
    {
     "name": "stdout",
     "output_type": "stream",
     "text": [
      "550\n"
     ]
    }
   ],
   "source": [
    "color_shape_number_ood_guid = color_ood_guid + shape_ood_guid + number_ood_guid\n",
    "print(len(set(color_shape_number_ood_guid)))"
   ]
  },
  {
   "cell_type": "code",
   "execution_count": 203,
   "metadata": {},
   "outputs": [],
   "source": [
    "import pickle\n",
    "# pickle.dump(color_shape_number_ood_guid, open(\"/home/yingshac/CYS/WebQnA/WebQnA_data_new/color_shape_number_ood_guid.pkl\", \"wb\"))\n",
    "# color shape number ood guid was fixed on Jun 24"
   ]
  },
  {
   "cell_type": "markdown",
   "metadata": {},
   "source": [
    "### Randomly assign train/val/ind_test for [color, shape, number]"
   ]
  },
  {
   "cell_type": "code",
   "execution_count": 204,
   "metadata": {},
   "outputs": [
    {
     "name": "stdout",
     "output_type": "stream",
     "text": [
      "550\n"
     ]
    }
   ],
   "source": [
    "# Sanity check after ood guids were created for [color, shape, number]\n",
    "color_shape_number_ood_guid = pickle.load(open(\"/home/yingshac/CYS/WebQnA/WebQnA_data_new/color_shape_number_ood_guid.pkl\", \"rb\"))\n",
    "assert len(color_shape_number_ood_guid) == len(set(color_shape_number_ood_guid))\n",
    "print(len(color_shape_number_ood_guid))"
   ]
  },
  {
   "cell_type": "code",
   "execution_count": 213,
   "metadata": {},
   "outputs": [
    {
     "name": "stdout",
     "output_type": "stream",
     "text": [
      "Counter({'tbd': 20420, 'train': 3460, 'ood_test': 550, 'ind_test': 525, 'val': 512})\n"
     ]
    }
   ],
   "source": [
    "img_data_J_color_shape_number_have_split = copy.deepcopy(dataset_J_Qcate)\n",
    "for k in img_data_J_color_shape_number_have_split:\n",
    "    if img_data_J_color_shape_number_have_split[k]['Qcate'] in ['color', 'shape', 'number']:\n",
    "        if img_data_J_color_shape_number_have_split[k]['Guid'] in color_shape_number_ood_guid:\n",
    "            img_data_J_color_shape_number_have_split[k]['split'] = 'ood_test'\n",
    "        else:\n",
    "            if random.random() < 7/9:\n",
    "                img_data_J_color_shape_number_have_split[k]['split'] = 'train'\n",
    "            elif random.random() < 0.5:\n",
    "                img_data_J_color_shape_number_have_split[k]['split'] = 'val'\n",
    "            else:\n",
    "                img_data_J_color_shape_number_have_split[k]['split'] = 'ind_test'\n",
    "    else: img_data_J_color_shape_number_have_split[k]['split'] = 'tbd'\n",
    "print(Counter([img_data_J_color_shape_number_have_split[k]['split'] for k in img_data_J_color_shape_number_have_split]))"
   ]
  },
  {
   "cell_type": "code",
   "execution_count": 214,
   "metadata": {},
   "outputs": [],
   "source": [
    "# json.dump(img_data_J_color_shape_number_have_split, open(\"/home/yingshac/CYS/WebQnA/WebQnA_data_new/img_data_J_color_shape_number_have_split.json\", \"w\"), indent=4)\n",
    "# ood guid for color shape number was decided on Jun 24. \n",
    "# Random split into train/val/ind_test was created on Jun 24"
   ]
  },
  {
   "cell_type": "code",
   "execution_count": null,
   "metadata": {},
   "outputs": [],
   "source": []
  }
 ],
 "metadata": {
  "kernelspec": {
   "display_name": "py37",
   "language": "python",
   "name": "py37"
  },
  "language_info": {
   "codemirror_mode": {
    "name": "ipython",
    "version": 3
   },
   "file_extension": ".py",
   "mimetype": "text/x-python",
   "name": "python",
   "nbconvert_exporter": "python",
   "pygments_lexer": "ipython3",
   "version": "3.7.9"
  }
 },
 "nbformat": 4,
 "nbformat_minor": 4
}
